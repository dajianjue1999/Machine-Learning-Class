{
 "cells": [
  {
   "cell_type": "code",
   "execution_count": 152,
   "id": "b03ae45e",
   "metadata": {},
   "outputs": [],
   "source": [
    "import pandas as pd;\n",
    "import numpy as np;\n",
    "import matplotlib.pyplot as plt;\n",
    "import seaborn as sns;\n",
    "import time"
   ]
  },
  {
   "cell_type": "code",
   "execution_count": 153,
   "id": "60c5c1db",
   "metadata": {},
   "outputs": [],
   "source": [
    "from sklearn.utils import shuffle"
   ]
  },
  {
   "cell_type": "code",
   "execution_count": 154,
   "id": "25ccdaa2",
   "metadata": {},
   "outputs": [],
   "source": [
    "Y = pd.read_csv(\"target.txt\",names=[\"target\"])\n",
    "names = [str(int) for int in list(range(1,123))]\n",
    "names = [\"X\"+int for int in names]\n",
    "X = pd.read_csv(\"features.txt\",names=names)"
   ]
  },
  {
   "cell_type": "code",
   "execution_count": 155,
   "id": "13126b26",
   "metadata": {},
   "outputs": [],
   "source": [
    "X = X.values\n",
    "Y = Y.values"
   ]
  },
  {
   "cell_type": "markdown",
   "id": "81069c6b",
   "metadata": {},
   "source": [
    "## a"
   ]
  },
  {
   "cell_type": "code",
   "execution_count": 157,
   "id": "6837a9db",
   "metadata": {},
   "outputs": [],
   "source": [
    "def softmargin(n,w,b,C,x,y):\n",
    "    temp_max_sum = 0\n",
    "    # j = (0,122) feature\n",
    "    # i = (0,6414) number of cases\n",
    "    # x[i] case i in x\n",
    "    # x[i][j] case i feature j in x\n",
    "    # w[j] each parameter\n",
    "    temp_w_sum = np.dot(w,w)\n",
    "    for i in range(n):\n",
    "        temp_max_sum += max(0,1-y[i]*(np.dot(x[i],w)+b))\n",
    "    return 0.5*temp_w_sum + C*temp_max_sum\n"
   ]
  },
  {
   "cell_type": "code",
   "execution_count": 158,
   "id": "bbb5ddb6",
   "metadata": {},
   "outputs": [],
   "source": [
    "def partial_wj(w,j,xi,yi,b):\n",
    "    if yi*(np.dot(xi,w)+b) >= 1:\n",
    "        return 0\n",
    "    else:\n",
    "        return -yi*xi[j]"
   ]
  },
  {
   "cell_type": "code",
   "execution_count": 159,
   "id": "50ed2b6d",
   "metadata": {},
   "outputs": [],
   "source": [
    "def gradient_wj(w,j,C,x,y,b):\n",
    "    temp_sum = 0\n",
    "    for i in range(len(y)):\n",
    "        temp_sum += partial_wj(w,j,x[i],y[i],b)\n",
    "    return w[j] + C*temp_sum"
   ]
  },
  {
   "cell_type": "code",
   "execution_count": 160,
   "id": "fbae77a2",
   "metadata": {},
   "outputs": [],
   "source": [
    "def partial_b(w,xi,yi,b):\n",
    "    if yi*(np.dot(xi,w)+b) >= 1:\n",
    "        return 0\n",
    "    else:\n",
    "        return -yi"
   ]
  },
  {
   "cell_type": "code",
   "execution_count": 161,
   "id": "30f6f3ba",
   "metadata": {},
   "outputs": [],
   "source": [
    "def gradient_b(w,b,C,x,y):\n",
    "    temp_sum = 0\n",
    "    for i in range(len(y)):\n",
    "        temp_sum += partial_b(w,x[i],y[i],b)\n",
    "    return C*temp_sum"
   ]
  },
  {
   "cell_type": "code",
   "execution_count": 162,
   "id": "fd38546e",
   "metadata": {},
   "outputs": [],
   "source": [
    "def BatchGradientDescent(x,y):\n",
    "    k = b = 0\n",
    "    eps = 0.25\n",
    "    eta = 0.0000003\n",
    "    d = len(x[0])\n",
    "    w = np.zeros(d)\n",
    "    n = len(y)\n",
    "    C = 100\n",
    "    cost = 10000\n",
    "    f_old = softmargin(n,w,b,C,x,y)\n",
    "    f = []\n",
    "    while cost > eps:\n",
    "        for j in range(d):\n",
    "            w[j] = w[j] - eta*gradient_wj(w,j,C,x,y,b)\n",
    "        b = b - eta*gradient_b(w,b,C,x,y)\n",
    "        f_new = softmargin(n,w,b,C,x,y)\n",
    "        cost = abs(f_new - f_old)*100/f_old\n",
    "        f_old = f_new\n",
    "        f.append(f_new[0])\n",
    "        if k%10 == 0:\n",
    "            print(\"cost:\", cost)\n",
    "            print(\"Iteration:\", k)\n",
    "        k += 1\n",
    "    return f\n"
   ]
  },
  {
   "cell_type": "code",
   "execution_count": 163,
   "id": "6df84585",
   "metadata": {},
   "outputs": [
    {
     "name": "stdout",
     "output_type": "stream",
     "text": [
      "cost: [38.89291868]\n",
      "Iteration: 0\n",
      "cost: [0.39451094]\n",
      "Iteration: 10\n",
      "cost: [0.31617411]\n",
      "Iteration: 20\n",
      "cost: [0.30402508]\n",
      "Iteration: 30\n",
      "cost: [0.30396612]\n",
      "Iteration: 40\n",
      "cost: [0.30691618]\n",
      "Iteration: 50\n",
      "The running time for BGD is: 370.30693888664246\n"
     ]
    }
   ],
   "source": [
    "Start = time.time()\n",
    "BGD_cost = BatchGradientDescent(X,Y)\n",
    "End = time.time()\n",
    "print(\"The running time for BGD is:\", End-Start)"
   ]
  },
  {
   "cell_type": "code",
   "execution_count": 164,
   "id": "438970eb",
   "metadata": {},
   "outputs": [],
   "source": [
    "import random\n",
    "random.seed(10086)\n",
    "from sklearn.utils import shuffle\n",
    "X1,Y1 = shuffle(X,Y)\n",
    "\n",
    "def StochasticGradientDescent(x,y):\n",
    "    k = b = 0\n",
    "    i = 1\n",
    "    eps = 0.001\n",
    "    eta = 0.0001\n",
    "    d = len(X[0])\n",
    "    w = np.zeros(d)\n",
    "    n = len(y)\n",
    "    C = 100\n",
    "    f_old = softmargin(n,w,b,C,x,y)\n",
    "    cost_old = 0.5*f_old\n",
    "    cost_new = 1000\n",
    "    f = []\n",
    "    while cost_new > eps:\n",
    "        for j in range(d):\n",
    "            w[j] = w[j] - eta*(w[j]+C*partial_wj(w,j,x[i],y[i],b))\n",
    "        b = b - eta*C*partial_b(w,x[i],y[i],b)\n",
    "        f_new = softmargin(n,w,b,C,x,y)\n",
    "        if k == 0:\n",
    "            cost_new = 0.5*(abs(f_new - f_old)*100/f_old)\n",
    "        else:\n",
    "            cost_new = 0.5*(abs(f_new - f_old)*100/f_old) + 0.5*cost_old\n",
    "        f_old = f_new\n",
    "        cost_old = cost_new\n",
    "        i = (i%n)+1\n",
    "        f.append(f_new[0])\n",
    "        if k%500 ==0:\n",
    "            print(\"cost:\", cost_new)\n",
    "            print(\"Iteration:\", k)\n",
    "        k += 1\n",
    "    return f\n"
   ]
  },
  {
   "cell_type": "code",
   "execution_count": 165,
   "id": "dd808b4b",
   "metadata": {},
   "outputs": [
    {
     "name": "stdout",
     "output_type": "stream",
     "text": [
      "cost: [1.59674145]\n",
      "Iteration: 0\n",
      "cost: [1.30766404]\n",
      "Iteration: 500\n",
      "cost: [0.05772389]\n",
      "Iteration: 1000\n",
      "cost: [0.0298056]\n",
      "Iteration: 1500\n",
      "cost: [0.83853692]\n",
      "Iteration: 2000\n",
      "cost: [0.69810909]\n",
      "Iteration: 2500\n",
      "cost: [1.00549747]\n",
      "Iteration: 3000\n",
      "cost: [0.00212938]\n",
      "Iteration: 3500\n",
      "cost: [0.72745517]\n",
      "Iteration: 4000\n",
      "cost: [0.07439594]\n",
      "Iteration: 4500\n",
      "The running time for SGD is: 245.87482714653015\n"
     ]
    }
   ],
   "source": [
    "Start = time.time()\n",
    "SGD_cost = StochasticGradientDescent(X1,Y1)\n",
    "End = time.time()\n",
    "print(\"The running time for SGD is:\", End-Start)"
   ]
  },
  {
   "cell_type": "code",
   "execution_count": 166,
   "id": "0f10b978",
   "metadata": {},
   "outputs": [],
   "source": [
    "def MiniBatchGradientDescent(x,y):\n",
    "    k = b = 0\n",
    "    eps = 0.01\n",
    "    eta = 0.00001\n",
    "    d = len(X[0])\n",
    "    w = np.zeros(d)\n",
    "    n = len(y)\n",
    "    C = 100\n",
    "    f_old = softmargin(n,w,b,C,x,y)\n",
    "    cost_old = 0.5*f_old\n",
    "    cost_new = 1000\n",
    "    f = []\n",
    "    batch_size = 20\n",
    "    l = 1\n",
    "    while cost_new >eps:\n",
    "        a = int(l)*batch_size+1\n",
    "        c = min(n, (int(l)+1)*batch_size)\n",
    "        for j in range(d):\n",
    "            w[j] = w[j] - eta*gradient_wj(w,j,C,x[a:c],y[a:c],b)\n",
    "        b = b - eta*gradient_b(w,b,C,x[a:c],y[a:c])\n",
    "        l = (l+1)%((n+batch_size-1)/batch_size)\n",
    "        f_new = softmargin(n,w,b,C,x,y)\n",
    "        if k == 0:\n",
    "            cost_new = 0.5*(abs(f_new - f_old)*100/f_old)\n",
    "        else:\n",
    "            cost_new = 0.5*(abs(f_new - f_old)*100/f_old) + 0.5*cost_old\n",
    "        f_old = f_new\n",
    "        cost_old = cost_new\n",
    "        f.append(f_new[0])\n",
    "        if k%200 == 0:\n",
    "            print(\"cost:\", cost_new)\n",
    "            print(\"Iteration:\", k)\n",
    "        k += 1\n",
    "    return f"
   ]
  },
  {
   "cell_type": "code",
   "execution_count": 167,
   "id": "965ef776",
   "metadata": {},
   "outputs": [
    {
     "name": "stdout",
     "output_type": "stream",
     "text": [
      "cost: [2.70376515]\n",
      "Iteration: 0\n",
      "cost: [0.13064641]\n",
      "Iteration: 200\n",
      "cost: [0.06286008]\n",
      "Iteration: 400\n",
      "The running time for MBGD is: 34.10087561607361\n"
     ]
    }
   ],
   "source": [
    "Start = time.time()\n",
    "MBGD_cost = MiniBatchGradientDescent(X1,Y1)\n",
    "End = time.time()\n",
    "print(\"The running time for MBGD is:\", End-Start)"
   ]
  },
  {
   "cell_type": "markdown",
   "id": "ba822f46",
   "metadata": {},
   "source": [
    "## b"
   ]
  },
  {
   "cell_type": "code",
   "execution_count": 168,
   "id": "7870827d",
   "metadata": {},
   "outputs": [
    {
     "data": {
      "text/plain": [
       "Text(0, 0.5, 'Cost Function')"
      ]
     },
     "execution_count": 168,
     "metadata": {},
     "output_type": "execute_result"
    },
    {
     "data": {
      "image/png": "[encoded data removed]",
      "text/plain": [
       "<Figure size 432x288 with 1 Axes>"
      ]
     },
     "metadata": {
      "needs_background": "light"
     },
     "output_type": "display_data"
    }
   ],
   "source": [
    "plt.plot(list(range(len(MBGD_cost))),MBGD_cost, label = \"MBGD\")\n",
    "plt.plot(list(range(len(SGD_cost))),SGD_cost, label = \"SGD\")\n",
    "plt.plot(list(range(len(BGD_cost))),BGD_cost, label = \"BGD\")\n",
    "plt.legend()\n",
    "plt.title(\"Iteration vs. Cost Function\")\n",
    "plt.xlabel(\"Iteration\")\n",
    "plt.ylabel(\"Cost Function\")"
   ]
  },
  {
   "cell_type": "markdown",
   "id": "706adf2d",
   "metadata": {},
   "source": [
    "We can see that Batch Gradient Descent has the lowest iteration. This is because Batch Gradient Descent takes information from the whole dataset, so it needs the least amount of iterations. Howerver, it takes the longest amount of time to converge, 370 seconds.\n",
    "\n",
    "For Stochastic Gradient Descent, it takes the highest amount of iterations. Stochastic Gradient Descent calculates the gradient for one case each time, so it uses less time to find parameter. Because it collect information from randomly selected points, it uses less computational cost to find enough information tha Batch Gradient Descent. It takes the medium amount of time to converge, 245 seconds\n",
    "\n",
    "For Minibatch Gradient Descent. it combines the advantage of Stochastic Gradient Descent and Batch Gradient Descent, so it takes the least amount of time to converge, 34 seconds"
   ]
  }
 ],
 "metadata": {
  "kernelspec": {
   "display_name": "Python 3 (ipykernel)",
   "language": "python",
   "name": "python3"
  },
  "language_info": {
   "codemirror_mode": {
    "name": "ipython",
    "version": 3
   },
   "file_extension": ".py",
   "mimetype": "text/x-python",
   "name": "python",
   "nbconvert_exporter": "python",
   "pygments_lexer": "ipython3",
   "version": "3.9.7"
  }
 },
 "nbformat": 4,
 "nbformat_minor": 5
}
